{
 "cells": [
  {
   "cell_type": "code",
   "execution_count": 1,
   "id": "5d0b122a",
   "metadata": {},
   "outputs": [
    {
     "data": {
      "text/plain": [
       "'\\n!pip install imblearn\\n!pip install pyQt5\\n!pip install numpy\\n!pip install pandas\\n!pip install sklearn\\n!pip install matplotlib\\n'"
      ]
     },
     "execution_count": 1,
     "metadata": {},
     "output_type": "execute_result"
    }
   ],
   "source": [
    "#Required libraries\n",
    "\"\"\"\n",
    "!pip install imblearn\n",
    "!pip install pyQt5\n",
    "!pip install numpy\n",
    "!pip install pandas\n",
    "!pip install sklearn\n",
    "!pip install matplotlib\n",
    "\"\"\""
   ]
  },
  {
   "cell_type": "code",
   "execution_count": 2,
   "id": "cb052813",
   "metadata": {},
   "outputs": [],
   "source": [
    "\n",
    "import PyQt5\n",
    "import pandas as pd\n",
    "import matplotlib.pyplot as plt\n",
    "import seaborn as sn\n",
    "\n",
    "%matplotlib qt \n",
    "\n",
    "import numpy as np\n",
    "\n",
    "from dataloader import *\n",
    "import preprocessing\n",
    "\n",
    "\n",
    "from sklearn.decomposition import PCA\n",
    "from sklearn.cluster import KMeans\n",
    "from sklearn import preprocessing\n",
    "from sklearn.neighbors import KNeighborsClassifier\n",
    "from sklearn.model_selection import train_test_split\n",
    "from sklearn.metrics import accuracy_score\n",
    "from sklearn.manifold import TSNE\n",
    "from sklearn.tree import DecisionTreeClassifier\n",
    "from sklearn.ensemble import RandomForestClassifier\n",
    "from sklearn import tree\n",
    "\n",
    "#Using GridSearch to find the optimal value of K number of nearest neighbors\n",
    "from sklearn.model_selection import GridSearchCV\n",
    "\n",
    "#metrics for analysing our model\n",
    "from sklearn.metrics import precision_score,accuracy_score\n",
    "from sklearn.metrics import recall_score\n",
    "from sklearn.metrics import f1_score\n",
    "from sklearn.metrics import classification_report\n",
    "from sklearn.metrics import confusion_matrix\n",
    "from sklearn.metrics.cluster import normalized_mutual_info_score\n",
    "\n",
    "# oversampling technique\n",
    "from imblearn.over_sampling import SMOTE"
   ]
  },
  {
   "cell_type": "markdown",
   "id": "8c7b531c",
   "metadata": {},
   "source": [
    "#### Load the data"
   ]
  },
  {
   "cell_type": "code",
   "execution_count": 3,
   "id": "1beac219",
   "metadata": {},
   "outputs": [],
   "source": [
    "handler = Dataloader()"
   ]
  },
  {
   "cell_type": "code",
   "execution_count": null,
   "id": "1ccd5fc9",
   "metadata": {},
   "outputs": [],
   "source": []
  },
  {
   "cell_type": "markdown",
   "id": "ff84f809",
   "metadata": {},
   "source": [
    "#### Scale data"
   ]
  },
  {
   "cell_type": "markdown",
   "id": "650d2424",
   "metadata": {},
   "source": [
    "scale all variables to have a mean of 0 and standard deviation of 1"
   ]
  },
  {
   "cell_type": "code",
   "execution_count": 4,
   "id": "f4c6a9ac",
   "metadata": {},
   "outputs": [],
   "source": [
    "data = preprocessing.scale(handler.data)"
   ]
  },
  {
   "cell_type": "markdown",
   "id": "9f7cee63",
   "metadata": {},
   "source": [
    "#### Data Analysis and Visualization"
   ]
  },
  {
   "cell_type": "code",
   "execution_count": 5,
   "id": "470feddb",
   "metadata": {},
   "outputs": [
    {
     "name": "stdout",
     "output_type": "stream",
     "text": [
      "Classes and number of instances for each class:\n",
      "{'BRCA': 300, 'COAD': 78, 'KIRC': 146, 'LUAD': 141, 'PRAD': 136}\n"
     ]
    }
   ],
   "source": [
    "unique, counts = np.unique(handler.labels, return_counts=True)\n",
    "print(\"Classes and number of instances for each class:\")\n",
    "print(dict(zip(unique, counts)))\n",
    "plt.bar(unique,counts)\n",
    "plt.title(\"Class Distribution\")\n",
    "plt.ylabel(\"Frequency\")\n",
    "plt.xlabel(\"Different types of tumour\")\n",
    "plt.show()"
   ]
  },
  {
   "cell_type": "markdown",
   "id": "b4d7adca",
   "metadata": {},
   "source": [
    "We notice that there is class imbalance and we can use *SMOTE(Synthetic Minority Oversampling Technique)* for increasing instances of the minority class\n",
    "We also can make use of downsampling to make sure each class is represented equally"
   ]
  },
  {
   "cell_type": "code",
   "execution_count": 6,
   "id": "78a0340e",
   "metadata": {},
   "outputs": [
    {
     "name": "stdout",
     "output_type": "stream",
     "text": [
      "Number of samples: 801\n",
      "Number of genes: 20531\n"
     ]
    }
   ],
   "source": [
    "print(\"Number of samples:\",len(data))\n",
    "print(\"Number of genes:\",len(data[0]))"
   ]
  },
  {
   "cell_type": "markdown",
   "id": "01a62d31",
   "metadata": {},
   "source": [
    "#### Split original dataset into train and test"
   ]
  },
  {
   "cell_type": "code",
   "execution_count": 7,
   "id": "5978ae06",
   "metadata": {},
   "outputs": [],
   "source": [
    "#split  in test and train\n",
    "X_train, X_test, y_train, y_test = train_test_split(handler.data, handler.labels, test_size=0.20)"
   ]
  },
  {
   "cell_type": "markdown",
   "id": "387aae00",
   "metadata": {},
   "source": [
    "#### Feature selection and Dimensionality reduction"
   ]
  },
  {
   "cell_type": "code",
   "execution_count": 8,
   "id": "30bea191",
   "metadata": {},
   "outputs": [
    {
     "name": "stdout",
     "output_type": "stream",
     "text": [
      "(801, 530)\n",
      "Number of genes after dimension reduction using PCA: 530\n"
     ]
    }
   ],
   "source": [
    "#with pca extract eigen pairs that explains 95% of the variance in the data.\n",
    "pca = PCA(n_components=0.95)\n",
    "\n",
    "#simultanously calculate eigen pairs and transform our data into the new coordinate frame\n",
    "principalComponents = pca.fit_transform(data)\n",
    "\n",
    "#check the amount of dimensions left after pca\n",
    "print(principalComponents.shape)\n",
    "print(\"Number of genes after dimension reduction using PCA:\",principalComponents.shape[1])\n",
    "\n",
    "#creating labelEncoder\n",
    "le = preprocessing.LabelEncoder()\n",
    "labels = le.fit_transform(handler.labels)"
   ]
  },
  {
   "cell_type": "code",
   "execution_count": 9,
   "id": "bc82457d",
   "metadata": {},
   "outputs": [],
   "source": [
    "# Visualize\n",
    "#plot 3 most important principle components (3D plot)\n",
    "color = np.array(['r', 'g', 'b', 'c', 'm'])\n",
    "fig = plt.figure(2,figsize=(12, 12))\n",
    "ax = fig.add_subplot(projection='3d')\n",
    "ax.set_title(\"Visualise data after applying PCA\")\n",
    "ax.scatter(principalComponents.T[0], principalComponents.T[1], principalComponents.T[2], color=color[labels])\n",
    "plt.show()"
   ]
  },
  {
   "cell_type": "code",
   "execution_count": 10,
   "id": "962ea802",
   "metadata": {},
   "outputs": [],
   "source": [
    "#split  in test and train\n",
    "X_train_pca, X_test_pca, y_train_pca, y_test_pca = train_test_split(principalComponents, labels, test_size=0.20)"
   ]
  },
  {
   "cell_type": "code",
   "execution_count": 11,
   "id": "1dcf599a",
   "metadata": {},
   "outputs": [
    {
     "data": {
      "text/plain": [
       "\"X_embedded = TSNE(n_components=2, learning_rate='auto',init='random').fit_transform(data)\\ncolor = np.array(['r', 'g', 'b', 'c', 'm'])\\nfig = plt.figure(figsize=(12, 12))\\nax = fig.add_subplot()\\nax.scatter(X_embedded.T[0], X_embedded.T[1], color=color[labels])\\nplt.show()\""
      ]
     },
     "execution_count": 11,
     "metadata": {},
     "output_type": "execute_result"
    }
   ],
   "source": [
    "\"\"\"X_embedded = TSNE(n_components=2, learning_rate='auto',init='random').fit_transform(data)\n",
    "color = np.array(['r', 'g', 'b', 'c', 'm'])\n",
    "fig = plt.figure(figsize=(12, 12))\n",
    "ax = fig.add_subplot()\n",
    "ax.scatter(X_embedded.T[0], X_embedded.T[1], color=color[labels])\n",
    "plt.show()\"\"\""
   ]
  },
  {
   "cell_type": "markdown",
   "id": "84b9f4de",
   "metadata": {},
   "source": [
    "### Checking Accuracy after PCA"
   ]
  },
  {
   "cell_type": "code",
   "execution_count": 12,
   "id": "3f6c22f7",
   "metadata": {},
   "outputs": [
    {
     "name": "stdout",
     "output_type": "stream",
     "text": [
      "KNN Accuracy(original data):  1.0\n",
      "KNN Accuracy after PCA:  0.9937888198757764\n",
      "K_means clustering(original data) Normalised mutual info score: 1.0\n",
      "K_means clustering(PCA data) Normalised mutual info score: 0.9245056869779346\n",
      "Accuracy of decision tree trained on original data 0.9503105590062112\n",
      "Accuracy of the decision tree trained on PCA+SMOTE 0.9503105590062112\n"
     ]
    },
    {
     "data": {
      "text/plain": [
       "array([[44,  0,  2,  6,  0],\n",
       "       [ 0, 18,  0,  1,  1],\n",
       "       [ 0,  1, 33,  0,  0],\n",
       "       [ 2,  2,  0, 24,  0],\n",
       "       [ 0,  1,  0,  0, 26]], dtype=int64)"
      ]
     },
     "execution_count": 12,
     "metadata": {},
     "output_type": "execute_result"
    }
   ],
   "source": [
    "\"\"\"#knn results on original data\n",
    "model = KNeighborsClassifier(n_neighbors=10)\n",
    "model.fit(X_train,y_train)\n",
    "y_pred = model.predict(X_test)\n",
    "acc = accuracy_score(y_test, y_pred)\n",
    "print(\"KNN Accuracy(original data): \", acc)\n",
    "\n",
    "\n",
    "#knn results after PCA\n",
    "model = KNeighborsClassifier(n_neighbors=10)\n",
    "model.fit(X_train_pca,y_train_pca)\n",
    "y_pred_pca = model.predict(X_test_pca)\n",
    "acc = accuracy_score(y_test_pca, y_pred_pca)\n",
    "print(\"KNN Accuracy after PCA: \", acc)\n",
    "\n",
    "# kmeans original dataset\n",
    "kmeans = KMeans(n_clusters=len(np.unique(handler.labels)), random_state=0).fit(X_train)\n",
    "labels_kmeans = le.fit_transform(kmeans.labels_)\n",
    "y_pred = kmeans.predict(X_test)\n",
    "print(\"K_means clustering(original data) Normalised mutual info score:\",normalized_mutual_info_score(y_test, y_pred))\n",
    "\n",
    "# kmeans after PCA\n",
    "kmeans = KMeans(n_clusters=len(np.unique(handler.labels)), random_state=0).fit(X_train_pca)\n",
    "labels_kmeans = le.fit_transform(kmeans.labels_)\n",
    "y_pred_pca = kmeans.predict(X_test_pca)\n",
    "print(\"K_means clustering(PCA data) Normalised mutual info score:\",normalized_mutual_info_score(y_test_pca, y_pred_pca))\n",
    "\n",
    "\n",
    "#decision tree original\n",
    "# Classifier performance on the original dataset\n",
    "tree_original = DecisionTreeClassifier(random_state=0)\n",
    "tree_original.fit(X_train, y_train)\n",
    "y_pred = tree_original.predict(X_test)\n",
    "\n",
    "#visualise decision tree\n",
    "fig = plt.figure(5,figsize=(14,8))\n",
    "plt.title(\"Visualize Decision Tree\")\n",
    "tree.plot_tree(tree_original,filled=True, fontsize=5)\n",
    "\n",
    "#check accuracy\n",
    "acc_tree = accuracy_score(y_test, y_pred)\n",
    "print(\"Accuracy of decision tree trained on original data\",acc_tree)\n",
    "confusion_matrix(y_test, y_pred)\n",
    "\n",
    "\n",
    "# Classifier performance on PCA dataset\n",
    "tree_resampled = DecisionTreeClassifier(random_state=0)\n",
    "tree_resampled.fit(X_train_pca, y_train_pca)\n",
    "y_pred_pca = tree_resampled.predict(X_test_pca)\n",
    "#visualise tree after training on the resampled data\n",
    "fig = plt.figure(6,figsize=(14,8))\n",
    "plt.title(\"Visualize Decision Tree after training on resampled data\")\n",
    "tree.plot_tree(tree_resampled,filled=True, fontsize=5)\n",
    "# check accuracy\n",
    "acc_tree_resampled = accuracy_score(y_test, y_pred)\n",
    "print(\"Accuracy of the decision tree trained on PCA+SMOTE\",acc_tree_resampled)\n",
    "confusion_matrix(y_test_pca, y_pred_pca)\"\"\""
   ]
  },
  {
   "cell_type": "markdown",
   "id": "b4aacd4e",
   "metadata": {},
   "source": [
    "### Applying SMOTE"
   ]
  },
  {
   "cell_type": "markdown",
   "id": "ecf7cb7a",
   "metadata": {},
   "source": [
    "- SMOTE is applied after PCA is done\n",
    "- refer (https://arxiv.org/ftp/arxiv/papers/1403/1403.1949.pdf#:~:text=After%20running%20PCA%2C%20SMOTE%20resampling,after%20the%20running%20of%20PCA.)"
   ]
  },
  {
   "cell_type": "code",
   "execution_count": 13,
   "id": "735fec05",
   "metadata": {},
   "outputs": [],
   "source": [
    "oversample = SMOTE(k_neighbors=5)\n",
    "resampled_data, resampled_labels = oversample.fit_resample(principalComponents, handler.labels)"
   ]
  },
  {
   "cell_type": "code",
   "execution_count": 14,
   "id": "e3b7cab7",
   "metadata": {},
   "outputs": [
    {
     "name": "stdout",
     "output_type": "stream",
     "text": [
      "Classes and number of instances for each class:\n",
      "{'BRCA': 300, 'COAD': 300, 'KIRC': 300, 'LUAD': 300, 'PRAD': 300}\n"
     ]
    }
   ],
   "source": [
    "unique, counts = np.unique(resampled_labels, return_counts=True)\n",
    "print(\"Classes and number of instances for each class:\")\n",
    "print(dict(zip(unique, counts)))\n",
    "plt.figure(3)\n",
    "plt.bar(unique,counts)\n",
    "plt.title(\"Class Distribution after SMOTE\")\n",
    "plt.ylabel(\"Frequency\")\n",
    "plt.xlabel(\"Different types of tumour\")\n",
    "plt.show()"
   ]
  },
  {
   "cell_type": "markdown",
   "id": "d67f03e1",
   "metadata": {},
   "source": [
    "### Visualize the data after applying SMOTE"
   ]
  },
  {
   "cell_type": "code",
   "execution_count": 15,
   "id": "0b70047f",
   "metadata": {},
   "outputs": [],
   "source": [
    "#creating labelEncoder\n",
    "le = preprocessing.LabelEncoder()\n",
    "labels = le.fit_transform(resampled_labels)\n",
    "\n",
    "# Visualize\n",
    "#plot 3 most important principle components after SMOTE(3D plot)\n",
    "color = np.array(['r', 'g', 'b', 'c', 'm'])\n",
    "fig = plt.figure(4,figsize=(12, 10))\n",
    "ax = fig.add_subplot(projection='3d')\n",
    "ax.scatter(resampled_data.T[0], resampled_data.T[1], resampled_data.T[2], color=color[labels])\n",
    "ax.set_title(\"Visualise data after PCA+SMOTE\")\n",
    "plt.show()"
   ]
  },
  {
   "cell_type": "markdown",
   "id": "76cd47e6",
   "metadata": {},
   "source": [
    "#### Split SMOTE resampled data into train test splits"
   ]
  },
  {
   "cell_type": "code",
   "execution_count": 16,
   "id": "9472d74a",
   "metadata": {},
   "outputs": [],
   "source": [
    "#split in test and train\n",
    "X_train_resampled, X_test_resampled, y_train_resampled, y_test_resampled = train_test_split(resampled_data, labels, test_size=0.20)\n"
   ]
  },
  {
   "cell_type": "code",
   "execution_count": null,
   "id": "3db55dac",
   "metadata": {},
   "outputs": [],
   "source": []
  },
  {
   "cell_type": "markdown",
   "id": "6b60dedc",
   "metadata": {},
   "source": [
    "### Check model accuracy after SMOTE"
   ]
  },
  {
   "cell_type": "code",
   "execution_count": 19,
   "id": "3a23ebf5",
   "metadata": {},
   "outputs": [
    {
     "name": "stdout",
     "output_type": "stream",
     "text": [
      "KNN Accuracy(original data):  1.0\n",
      "KNN Accuracy after PCA+SMOTE: 0.9875776397515528\n",
      "K_means clustering(original data) Normalised mutual info score:  1.0\n",
      "K_means clustering(PCA+SMOTE) Normalised mutual info score:  0.9814791744846576\n"
     ]
    }
   ],
   "source": [
    "#knn results on original data\n",
    "model = KNeighborsClassifier(n_neighbors=10)\n",
    "model.fit(X_train,y_train)\n",
    "y_pred = model.predict(X_test)\n",
    "acc = accuracy_score(y_test, y_pred)\n",
    "print(\"KNN Accuracy(original data): \", acc)\n",
    "\n",
    "#knn results on PCA+SMOTE\n",
    "model = KNeighborsClassifier(n_neighbors=10)\n",
    "model.fit(X_train_resampled,y_train_resampled)\n",
    "y_pred = model.predict(X_test_pca)\n",
    "acc = accuracy_score(y_test_pca, y_pred)\n",
    "print(\"KNN Accuracy after PCA+SMOTE:\", acc)\n",
    "\n",
    "#kmeans results on original data\n",
    "kmeans = KMeans(n_clusters=len(np.unique(handler.labels)), random_state=0).fit(X_train)\n",
    "labels_kmeans = le.fit_transform(kmeans.labels_)\n",
    "y_pred = kmeans.predict(X_test)\n",
    "print(\"K_means clustering(original data) Normalised mutual info score: \", normalized_mutual_info_score(y_test, y_pred))\n",
    "\n",
    "#kmeans results on PCA+SMOTE\n",
    "kmeans = KMeans(n_clusters=len(np.unique(handler.labels)), random_state=0).fit(X_train_resampled)\n",
    "labels_kmeans = le.fit_transform(kmeans.labels_)\n",
    "y_pred = kmeans.predict(X_test_pca)\n",
    "print(\"K_means clustering(PCA+SMOTE) Normalised mutual info score: \", normalized_mutual_info_score(y_test_pca, y_pred))"
   ]
  },
  {
   "cell_type": "markdown",
   "id": "b9e8601a",
   "metadata": {},
   "source": [
    "### Requirements\n",
    "###### Task Classification\n",
    " - Do classification on those samples\n",
    " - Classify the samples into 5 different tumour classes:BRCA,KIRC,LUAD,PRAD,COAD\n",
    " - Classifiers we choose are: 1) Decision Tree and 2) Random Forest\n",
    "\n",
    "###### Task Clustering\n",
    " - Cluster the samples into 5 different clusters\n",
    " - Clustering algorithm we choose is K-means"
   ]
  },
  {
   "cell_type": "markdown",
   "id": "de7d3118",
   "metadata": {},
   "source": [
    "### Classification - Decision Tree"
   ]
  },
  {
   "cell_type": "code",
   "execution_count": 23,
   "id": "c0c64a67",
   "metadata": {},
   "outputs": [
    {
     "name": "stdout",
     "output_type": "stream",
     "text": [
      "Accuracy of decision tree trained on original data 0.9503105590062112\n",
      "[[65  1  0  0  0]\n",
      " [ 0 18  0  0  0]\n",
      " [ 1  0 24  0  0]\n",
      " [ 0  3  0 24  0]\n",
      " [ 3  0  0  0 22]]\n",
      "Accuracy of the decision tree trained on PCA+SMOTE 0.9233333333333333\n",
      "[[56  3  3  5  0]\n",
      " [ 1 54  0  1  1]\n",
      " [ 1  0 55  0  0]\n",
      " [ 3  0  2 57  2]\n",
      " [ 1  0  0  0 55]]\n"
     ]
    }
   ],
   "source": [
    "# Classifier performance on the original dataset\n",
    "tree_original = DecisionTreeClassifier(random_state=0)\n",
    "tree_original.fit(X_train, y_train)\n",
    "y_pred = tree_original.predict(X_test)\n",
    "\n",
    "#visualise decision tree\n",
    "fig = plt.figure(5,figsize=(14,8))\n",
    "plt.title(\"Visualize Decision Tree\")\n",
    "tree.plot_tree(tree_original,filled=True, fontsize=5)\n",
    "\n",
    "#check accuracy\n",
    "acc_tree = accuracy_score(y_test, y_pred)\n",
    "print(\"Accuracy of decision tree trained on original data\",acc_tree)\n",
    "print(confusion_matrix(y_test, y_pred))\n",
    "\n",
    "\n",
    "\n",
    "# Classifier performance on PCA+SMOTE dataset\n",
    "tree_resampled = DecisionTreeClassifier(random_state=0)\n",
    "tree_resampled.fit(X_train_resampled, y_train_resampled)\n",
    "y_pred = tree_resampled.predict(X_test_resampled)\n",
    "\n",
    "#visualise tree after training on the resampled data\n",
    "fig = plt.figure(6,figsize=(14,8))\n",
    "plt.title(\"Visualize Decision Tree after training on resampled data\")\n",
    "tree.plot_tree(tree_resampled,filled=True, fontsize=5)\n",
    "\n",
    "# check accuracy\n",
    "acc_tree_resampled = accuracy_score(y_test_resampled, y_pred)\n",
    "print(\"Accuracy of the decision tree trained on PCA+SMOTE\",acc_tree_resampled)\n",
    "print(confusion_matrix(y_test_resampled, y_pred))"
   ]
  },
  {
   "cell_type": "code",
   "execution_count": null,
   "id": "158ec3f8",
   "metadata": {},
   "outputs": [],
   "source": []
  },
  {
   "cell_type": "markdown",
   "id": "3ccf0cec",
   "metadata": {},
   "source": [
    "### Classification - Random Forest"
   ]
  },
  {
   "cell_type": "code",
   "execution_count": null,
   "id": "26927263",
   "metadata": {},
   "outputs": [],
   "source": []
  },
  {
   "cell_type": "code",
   "execution_count": 24,
   "id": "d6d9ccd8",
   "metadata": {},
   "outputs": [
    {
     "name": "stdout",
     "output_type": "stream",
     "text": [
      "1.0\n",
      "[[66  0  0  0  0]\n",
      " [ 0 18  0  0  0]\n",
      " [ 0  0 25  0  0]\n",
      " [ 0  0  0 27  0]\n",
      " [ 0  0  0  0 25]]\n",
      "0.99\n"
     ]
    },
    {
     "data": {
      "text/plain": [
       "array([[66,  0,  1,  0,  0],\n",
       "       [ 0, 57,  0,  0,  0],\n",
       "       [ 1,  0, 55,  0,  0],\n",
       "       [ 0,  0,  0, 64,  0],\n",
       "       [ 1,  0,  0,  0, 55]], dtype=int64)"
      ]
     },
     "execution_count": 24,
     "metadata": {},
     "output_type": "execute_result"
    }
   ],
   "source": [
    "# Classifier performance on original dataset\n",
    "forest = RandomForestClassifier(random_state=0, criterion = 'gini')\n",
    "forest.fit(X_train, y_train)\n",
    "y_pred_forest = forest.predict(X_test)\n",
    "acc_forest = accuracy_score(y_test, y_pred_forest)\n",
    "print(acc_forest)\n",
    "print(confusion_matrix(y_test, y_pred_forest))\n",
    "\n",
    "\n",
    "# Classifier performance after PCA+SMOTE\n",
    "forest = RandomForestClassifier(random_state=0, criterion = 'gini')\n",
    "forest.fit(X_train_resampled, y_train_resampled)\n",
    "y_pred_forest = forest.predict(X_test_resampled)\n",
    "acc_forest = accuracy_score(y_test_resampled, y_pred_forest)\n",
    "print(acc_forest)\n",
    "confusion_matrix(y_test_resampled, y_pred_forest)"
   ]
  },
  {
   "cell_type": "markdown",
   "id": "a9fb1eb2",
   "metadata": {},
   "source": [
    "### Clustering - Kmeans"
   ]
  },
  {
   "cell_type": "code",
   "execution_count": null,
   "id": "793cff60",
   "metadata": {},
   "outputs": [],
   "source": []
  },
  {
   "cell_type": "code",
   "execution_count": null,
   "id": "8ede0644",
   "metadata": {},
   "outputs": [],
   "source": []
  },
  {
   "cell_type": "markdown",
   "id": "9ba1410a",
   "metadata": {},
   "source": [
    "### Trying Grid search and cross validation\n"
   ]
  },
  {
   "cell_type": "code",
   "execution_count": null,
   "id": "519bfa11",
   "metadata": {},
   "outputs": [],
   "source": [
    "KNN_gs = KNeighborsClassifier()\n",
    "parameters = {'n_neighbors':[1,3,5,7,9,11,13,15,17,19,21]}\n",
    "KNN_gs = GridSearchCV(KNN_gs, parameters,cv=10)\n",
    "KNN_gs.fit(X_train,y_train)"
   ]
  }
 ],
 "metadata": {
  "kernelspec": {
   "display_name": "Python 3",
   "language": "python",
   "name": "python3"
  },
  "language_info": {
   "codemirror_mode": {
    "name": "ipython",
    "version": 3
   },
   "file_extension": ".py",
   "mimetype": "text/x-python",
   "name": "python",
   "nbconvert_exporter": "python",
   "pygments_lexer": "ipython3",
   "version": "3.7.10"
  }
 },
 "nbformat": 4,
 "nbformat_minor": 5
}
