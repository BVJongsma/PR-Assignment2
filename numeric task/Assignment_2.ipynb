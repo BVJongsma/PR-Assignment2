{
 "cells": [
  {
   "cell_type": "code",
   "execution_count": 1,
   "id": "5d0b122a",
   "metadata": {},
   "outputs": [
    {
     "data": {
      "text/plain": [
       "'\\n!pip install imblearn\\n!pip install pyQt5\\n!pip install numpy\\n!pip install pandas\\n!pip install sklearn\\n!pip install matplotlib\\n'"
      ]
     },
     "execution_count": 1,
     "metadata": {},
     "output_type": "execute_result"
    }
   ],
   "source": [
    "#Required libraries\n",
    "\"\"\"\n",
    "!pip install imblearn\n",
    "!pip install pyQt5\n",
    "!pip install numpy\n",
    "!pip install pandas\n",
    "!pip install sklearn\n",
    "!pip install matplotlib\n",
    "\"\"\""
   ]
  },
  {
   "cell_type": "code",
   "execution_count": 23,
   "id": "cb052813",
   "metadata": {},
   "outputs": [],
   "source": [
    "import PyQt5\n",
    "import pandas as pd\n",
    "import matplotlib.pyplot as plt\n",
    "%matplotlib qt \n",
    "\n",
    "import numpy as np\n",
    "\n",
    "from dataloader import *\n",
    "import preprocessing\n",
    "\n",
    "\n",
    "from sklearn.decomposition import PCA\n",
    "from sklearn.cluster import KMeans\n",
    "from sklearn import preprocessing\n",
    "from sklearn.neighbors import KNeighborsClassifier\n",
    "from sklearn.model_selection import train_test_split\n",
    "from sklearn.metrics import accuracy_score\n",
    "from sklearn.manifold import TSNE\n",
    "\n",
    "#Using GridSearch to find the optimal value of K number of nearest neighbors\n",
    "from sklearn.model_selection import GridSearchCV\n",
    "\n",
    "#metrics for analysing our model\n",
    "from sklearn.metrics import precision_score,accuracy_score\n",
    "from sklearn.metrics import recall_score\n",
    "from sklearn.metrics import f1_score\n",
    "from sklearn.metrics import classification_report\n",
    "\n",
    "\n",
    "# oversampling technique\n",
    "from imblearn.over_sampling import SMOTE"
   ]
  },
  {
   "cell_type": "markdown",
   "id": "8c7b531c",
   "metadata": {},
   "source": [
    "#### Load the data"
   ]
  },
  {
   "cell_type": "code",
   "execution_count": 3,
   "id": "1beac219",
   "metadata": {},
   "outputs": [],
   "source": [
    "handler = Dataloader()"
   ]
  },
  {
   "cell_type": "markdown",
   "id": "ff84f809",
   "metadata": {},
   "source": [
    "#### Scale data"
   ]
  },
  {
   "cell_type": "markdown",
   "id": "650d2424",
   "metadata": {},
   "source": [
    "scale all variables to have a mean of 0 and standard deviation of 1"
   ]
  },
  {
   "cell_type": "code",
   "execution_count": 4,
   "id": "f4c6a9ac",
   "metadata": {},
   "outputs": [],
   "source": [
    "data = preprocessing.scale(handler.data)"
   ]
  },
  {
   "cell_type": "markdown",
   "id": "9f7cee63",
   "metadata": {},
   "source": [
    "#### Data Analysis and Visualization"
   ]
  },
  {
   "cell_type": "code",
   "execution_count": 5,
   "id": "470feddb",
   "metadata": {},
   "outputs": [
    {
     "name": "stdout",
     "output_type": "stream",
     "text": [
      "Classes and number of instances for each class:\n",
      "{'BRCA': 300, 'COAD': 78, 'KIRC': 146, 'LUAD': 141, 'PRAD': 136}\n"
     ]
    }
   ],
   "source": [
    "unique, counts = np.unique(handler.labels, return_counts=True)\n",
    "print(\"Classes and number of instances for each class:\")\n",
    "print(dict(zip(unique, counts)))\n",
    "plt.bar(unique,counts)\n",
    "plt.title(\"Class Distribution\")\n",
    "plt.ylabel(\"Frequency\")\n",
    "plt.xlabel(\"Different types of tumour\")\n",
    "plt.show()"
   ]
  },
  {
   "cell_type": "markdown",
   "id": "b4d7adca",
   "metadata": {},
   "source": [
    "We notice that there is class imbalance and we can use *SMOTE(Synthetic Minority Oversampling Technique)* for increasing instances of the minority class\n",
    "We also can make use of downsampling to make sure each class is represented equally"
   ]
  },
  {
   "cell_type": "code",
   "execution_count": 6,
   "id": "78a0340e",
   "metadata": {},
   "outputs": [
    {
     "name": "stdout",
     "output_type": "stream",
     "text": [
      "Number of samples: 801\n",
      "Number of genes: 20531\n"
     ]
    }
   ],
   "source": [
    "print(\"Number of samples:\",len(data))\n",
    "print(\"Number of genes:\",len(data[0]))"
   ]
  },
  {
   "cell_type": "code",
   "execution_count": null,
   "id": "5978ae06",
   "metadata": {},
   "outputs": [],
   "source": []
  },
  {
   "cell_type": "markdown",
   "id": "387aae00",
   "metadata": {},
   "source": [
    "#### Feature selection and Dimensionality reduction"
   ]
  },
  {
   "cell_type": "code",
   "execution_count": 7,
   "id": "30bea191",
   "metadata": {},
   "outputs": [
    {
     "name": "stdout",
     "output_type": "stream",
     "text": [
      "(801, 530)\n"
     ]
    }
   ],
   "source": [
    "#with pca extract eigen pairs that explains 95% of the variance in the data.\n",
    "pca = PCA(n_components=0.95)\n",
    "\n",
    "#simultanously calculate eigen pairs and transform our data into the new coordinate frame\n",
    "principalComponents = pca.fit_transform(data)\n",
    "\n",
    "#check the amount of dimensions left after pca\n",
    "print(principalComponents.shape)\n",
    "\n",
    "\n",
    "#creating labelEncoder\n",
    "le = preprocessing.LabelEncoder()\n",
    "labels = le.fit_transform(handler.labels)"
   ]
  },
  {
   "cell_type": "code",
   "execution_count": 8,
   "id": "bc82457d",
   "metadata": {},
   "outputs": [],
   "source": [
    "# Visualize\n",
    "#plot 3 most important principle components (3D plot)\n",
    "color = np.array(['r', 'g', 'b', 'c', 'm'])\n",
    "fig = plt.figure(2,figsize=(12, 12))\n",
    "ax = fig.add_subplot(projection='3d')\n",
    "ax.set_title(\"Visualise data after applying PCA\")\n",
    "ax.scatter(principalComponents.T[0], principalComponents.T[1], principalComponents.T[2], color=color[labels])\n",
    "plt.show()"
   ]
  },
  {
   "cell_type": "code",
   "execution_count": 25,
   "id": "a1985e12",
   "metadata": {},
   "outputs": [],
   "source": [
    "### TO-DO\n",
    "### TRY CORRELATION MATRIX"
   ]
  },
  {
   "cell_type": "code",
   "execution_count": 9,
   "id": "962ea802",
   "metadata": {},
   "outputs": [],
   "source": [
    "#split in test and train\n",
    "X_train, X_test, y_train, y_test = train_test_split(principalComponents, labels, test_size=0.20)\n"
   ]
  },
  {
   "cell_type": "code",
   "execution_count": 10,
   "id": "1dcf599a",
   "metadata": {},
   "outputs": [
    {
     "data": {
      "text/plain": [
       "\"X_embedded = TSNE(n_components=2, learning_rate='auto',init='random').fit_transform(data)\\ncolor = np.array(['r', 'g', 'b', 'c', 'm'])\\nfig = plt.figure(figsize=(12, 12))\\nax = fig.add_subplot()\\nax.scatter(X_embedded.T[0], X_embedded.T[1], color=color[labels])\\nplt.show()\""
      ]
     },
     "execution_count": 10,
     "metadata": {},
     "output_type": "execute_result"
    }
   ],
   "source": [
    "\"\"\"X_embedded = TSNE(n_components=2, learning_rate='auto',init='random').fit_transform(data)\n",
    "color = np.array(['r', 'g', 'b', 'c', 'm'])\n",
    "fig = plt.figure(figsize=(12, 12))\n",
    "ax = fig.add_subplot()\n",
    "ax.scatter(X_embedded.T[0], X_embedded.T[1], color=color[labels])\n",
    "plt.show()\"\"\""
   ]
  },
  {
   "cell_type": "markdown",
   "id": "c7c78f2a",
   "metadata": {},
   "source": [
    "### Requirements\n",
    "###### Task Classification\n",
    " - Do classification on those samples\n",
    " - Classify the samples into 5 different tumour classes:BRCA,KIRC,LUAD,PRAD,COAD\n",
    "\n",
    "###### Task Clustering\n",
    " - Cluster the samples into 5 different clusters"
   ]
  },
  {
   "cell_type": "markdown",
   "id": "84b9f4de",
   "metadata": {},
   "source": [
    "### Checking Accuracy without SMOTE"
   ]
  },
  {
   "cell_type": "code",
   "execution_count": null,
   "id": "3f6c22f7",
   "metadata": {},
   "outputs": [],
   "source": []
  },
  {
   "cell_type": "code",
   "execution_count": 11,
   "id": "5ec1468e",
   "metadata": {},
   "outputs": [
    {
     "name": "stdout",
     "output_type": "stream",
     "text": [
      "KNN Accuracy over the dimension reduced data:  1.0\n"
     ]
    }
   ],
   "source": [
    "\n",
    "#knn results\n",
    "model = KNeighborsClassifier(n_neighbors=10)\n",
    "model.fit(X_train,y_train)\n",
    "y_pred = model.predict(X_test)\n",
    "acc = accuracy_score(y_test, y_pred)\n",
    "print(\"KNN Accuracy over the dimension reduced data: \", acc)\n"
   ]
  },
  {
   "cell_type": "code",
   "execution_count": null,
   "id": "30318fb2",
   "metadata": {},
   "outputs": [],
   "source": []
  },
  {
   "cell_type": "code",
   "execution_count": 12,
   "id": "f5730013",
   "metadata": {},
   "outputs": [],
   "source": [
    "#kmeans\n",
    "kmeans = KMeans(n_clusters=len(np.unique(handler.labels)), random_state=0).fit(X_train)\n",
    "labels_kmeans = le.fit_transform(kmeans.labels_)\n",
    "y_pred = kmeans.predict(X_test)\n",
    "acc = accuracy_score(y_test, y_pred)\n",
    "print(\"Kmeans Accuracy over the dimension reduced data: \", acc)"
   ]
  },
  {
   "cell_type": "code",
   "execution_count": null,
   "id": "e3703f4a",
   "metadata": {},
   "outputs": [],
   "source": []
  },
  {
   "cell_type": "markdown",
   "id": "b4aacd4e",
   "metadata": {},
   "source": [
    "### Applying SMOTE"
   ]
  },
  {
   "cell_type": "markdown",
   "id": "ecf7cb7a",
   "metadata": {},
   "source": [
    "- SMOTE is applied after PCA is done\n",
    "- refer (https://arxiv.org/ftp/arxiv/papers/1403/1403.1949.pdf#:~:text=After%20running%20PCA%2C%20SMOTE%20resampling,after%20the%20running%20of%20PCA.)"
   ]
  },
  {
   "cell_type": "code",
   "execution_count": 14,
   "id": "735fec05",
   "metadata": {},
   "outputs": [],
   "source": [
    "oversample = SMOTE(k_neighbors=5)\n",
    "resampled_data, resampled_labels = oversample.fit_resample(principalComponents, handler.labels)"
   ]
  },
  {
   "cell_type": "code",
   "execution_count": 15,
   "id": "e3b7cab7",
   "metadata": {},
   "outputs": [
    {
     "name": "stdout",
     "output_type": "stream",
     "text": [
      "Classes and number of instances for each class:\n",
      "{'BRCA': 300, 'COAD': 300, 'KIRC': 300, 'LUAD': 300, 'PRAD': 300}\n"
     ]
    }
   ],
   "source": [
    "unique, counts = np.unique(resampled_labels, return_counts=True)\n",
    "print(\"Classes and number of instances for each class:\")\n",
    "print(dict(zip(unique, counts)))\n",
    "plt.figure(3)\n",
    "plt.bar(unique,counts)\n",
    "plt.title(\"Class Distribution after SMOTE\")\n",
    "plt.ylabel(\"Frequency\")\n",
    "plt.xlabel(\"Different types of tumour\")\n",
    "plt.show()"
   ]
  },
  {
   "cell_type": "markdown",
   "id": "d67f03e1",
   "metadata": {},
   "source": [
    "### Visualize the data after applying SMOTE"
   ]
  },
  {
   "cell_type": "code",
   "execution_count": 16,
   "id": "0b70047f",
   "metadata": {},
   "outputs": [],
   "source": [
    "#creating labelEncoder\n",
    "le = preprocessing.LabelEncoder()\n",
    "labels = le.fit_transform(resampled_labels)\n",
    "\n",
    "# Visualize\n",
    "#plot 3 most important principle components after SMOTE(3D plot)\n",
    "color = np.array(['r', 'g', 'b', 'c', 'm'])\n",
    "fig = plt.figure(4,figsize=(12, 10))\n",
    "ax = fig.add_subplot(projection='3d')\n",
    "ax.scatter(resampled_data.T[0], resampled_data.T[1], resampled_data.T[2], color=color[labels])\n",
    "ax.set_title(\"Visualise data after PCA+SMOTE\")\n",
    "plt.show()"
   ]
  },
  {
   "cell_type": "markdown",
   "id": "76cd47e6",
   "metadata": {},
   "source": [
    "#### Split SMOTE resampled data into train test splits"
   ]
  },
  {
   "cell_type": "code",
   "execution_count": 17,
   "id": "9472d74a",
   "metadata": {},
   "outputs": [],
   "source": [
    "#split in test and train\n",
    "X_train_resampled, X_test_resampled, y_train_resampled, y_test_resampled = train_test_split(resampled_data, labels, test_size=0.20)\n"
   ]
  },
  {
   "cell_type": "code",
   "execution_count": null,
   "id": "3db55dac",
   "metadata": {},
   "outputs": [],
   "source": []
  },
  {
   "cell_type": "markdown",
   "id": "6b60dedc",
   "metadata": {},
   "source": [
    "### Check model accuracy after SMOTE"
   ]
  },
  {
   "cell_type": "code",
   "execution_count": null,
   "id": "6521523c",
   "metadata": {},
   "outputs": [],
   "source": []
  },
  {
   "cell_type": "code",
   "execution_count": 22,
   "id": "3a23ebf5",
   "metadata": {},
   "outputs": [
    {
     "name": "stdout",
     "output_type": "stream",
     "text": [
      "KNN Accuracy over the dimension reduced data:  0.98\n",
      "Kmeans Accuracy over the dimension reduced data:  0.42\n"
     ]
    }
   ],
   "source": [
    "#knn results\n",
    "model = KNeighborsClassifier(n_neighbors=10)\n",
    "model.fit(X_train_resampled,y_train_resampled)\n",
    "y_pred = model.predict(X_test_resampled)\n",
    "acc = accuracy_score(y_test_resampled, y_pred)\n",
    "print(\"KNN Accuracy over the dimension reduced data: \", acc)\n",
    "\n",
    "\n",
    "#kmeans\n",
    "kmeans = KMeans(n_clusters=len(np.unique(handler.labels)), random_state=0).fit(X_train_resampled)\n",
    "labels_kmeans = le.fit_transform(kmeans.labels_)\n",
    "y_pred = kmeans.predict(X_test_resampled)\n",
    "acc = accuracy_score(y_test_resampled, y_pred)\n",
    "print(\"Kmeans Accuracy over the dimension reduced data: \", acc)"
   ]
  },
  {
   "cell_type": "markdown",
   "id": "9140acf0",
   "metadata": {},
   "source": [
    "### Trying Grid search and cross validation"
   ]
  },
  {
   "cell_type": "code",
   "execution_count": null,
   "id": "221fbe34",
   "metadata": {},
   "outputs": [],
   "source": [
    "KNN_gs = KNeighborsClassifier()\n",
    "\n",
    "KNN_gs = GridSearchCV(pipe, parameters,cv=10)\n",
    "Dtclf_gs.fit(X_train,y_train)"
   ]
  }
 ],
 "metadata": {
  "kernelspec": {
   "display_name": "Python 3",
   "language": "python",
   "name": "python3"
  },
  "language_info": {
   "codemirror_mode": {
    "name": "ipython",
    "version": 3
   },
   "file_extension": ".py",
   "mimetype": "text/x-python",
   "name": "python",
   "nbconvert_exporter": "python",
   "pygments_lexer": "ipython3",
   "version": "3.7.10"
  }
 },
 "nbformat": 4,
 "nbformat_minor": 5
}
